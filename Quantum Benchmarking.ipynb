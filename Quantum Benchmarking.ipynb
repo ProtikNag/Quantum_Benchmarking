{
 "cells": [
  {
   "cell_type": "code",
   "execution_count": 3,
   "id": "67675642-6a34-4170-bc25-aaddb9a5e80c",
   "metadata": {},
   "outputs": [
    {
     "name": "stderr",
     "output_type": "stream",
     "text": [
      "ibmqfactory.load_account:WARNING:2022-03-11 20:11:29,671: Credentials are already in use. The existing account in the session will be replaced.\n"
     ]
    }
   ],
   "source": [
    "import numpy as np\n",
    "\n",
    "# Importing standard Qiskit libraries\n",
    "from qiskit import QuantumCircuit, transpile, Aer, IBMQ\n",
    "from qiskit import QuantumRegister, ClassicalRegister, execute\n",
    "from qiskit.tools.jupyter import *\n",
    "from qiskit.visualization import *\n",
    "from ibm_quantum_widgets import *\n",
    "from qiskit.providers.aer import QasmSimulator\n",
    "\n",
    "# Loading your IBM Quantum account(s)\n",
    "provider = IBMQ.load_account()"
   ]
  },
  {
   "cell_type": "code",
   "execution_count": 6,
   "id": "7a53b8e1-1e5e-47a1-be44-501a7217c1d2",
   "metadata": {},
   "outputs": [
    {
     "data": {
      "image/png": "[encoded data removed]",
      "text/plain": [
       "<Figure size 461.069x264.88 with 1 Axes>"
      ]
     },
     "execution_count": 6,
     "metadata": {},
     "output_type": "execute_result"
    }
   ],
   "source": [
    "# GHZ gate\n",
    "q_ghz = QuantumRegister(3)\n",
    "c_ghz = ClassicalRegister(3)\n",
    "ghz_circ = QuantumCircuit(q_ghz, c_ghz)\n",
    "ghz_circ.h(q_ghz[0])\n",
    "ghz_circ.cx(q_ghz[0], q_ghz[1])\n",
    "ghz_circ.cx(q_ghz[1], q_ghz[2])\n",
    "ghz_circ.measure(q_ghz[0:3], c_ghz[0:3])\n",
    "ghz_circ.draw()"
   ]
  },
  {
   "cell_type": "code",
   "execution_count": 9,
   "id": "20b447b7-6108-46d1-9bac-90ea16e301c1",
   "metadata": {},
   "outputs": [
    {
     "name": "stdout",
     "output_type": "stream",
     "text": [
      "NoiseModel:\n",
      "  Basis gates: ['cx', 'id', 'rz', 'sx', 'u1', 'u2', 'u3']\n",
      "  Instructions with noise: ['u2', 'u1', 'cx', 'measure', 'u3', 'reset']\n",
      "  All-qubits errors: ['reset', 'measure', 'u1', 'u2', 'u3', 'cx']\n"
     ]
    }
   ],
   "source": [
    "# error probabilties, I took the following value randomly\n",
    "#wondering should I take them randomly\n",
    "import numpy as np\n",
    "from qiskit import QuantumCircuit, transpile\n",
    "from qiskit.quantum_info import Kraus, SuperOp\n",
    "from qiskit.providers.aer import AerSimulator\n",
    "from qiskit.tools.visualization import plot_histogram\n",
    "\n",
    "# Import from Qiskit Aer noise module\n",
    "from qiskit.providers.aer.noise import NoiseModel\n",
    "from qiskit.providers.aer.noise import QuantumError, ReadoutError\n",
    "from qiskit.providers.aer.noise import pauli_error\n",
    "from qiskit.providers.aer.noise import depolarizing_error\n",
    "from qiskit.providers.aer.noise import thermal_relaxation_error\n",
    "\n",
    "\n",
    "reset_error = 0.05 # this acts on single qubit gate, probability of flip a singe qubit P(reset)\n",
    "measure_error = 0.2 # P(measure error)\n",
    "gate_error = 0.05 # P(two qubit error)\n",
    "\n",
    "# calling error functions using from IBM library\n",
    "re_err = pauli_error([('X', reset_error),('I',1-reset_error)])\n",
    "meas_err = pauli_error([('X', measure_error),('I', 1-measure_error)])\n",
    "gate_err1 = pauli_error([('X', gate_error),('I', 1-gate_error)])\n",
    "gate_err2 = gate_err1.tensor(gate_err1)\n",
    "\n",
    "# errors on a noisy model\n",
    "bitflip_err = NoiseModel()\n",
    "bitflip_err.add_all_qubit_quantum_error(re_err,\"reset\")\n",
    "bitflip_err.add_all_qubit_quantum_error(meas_err,\"measure\")\n",
    "bitflip_err.add_all_qubit_quantum_error(gate_err1,[\"u1\", \"u2\", \"u3\"])\n",
    "bitflip_err.add_all_qubit_quantum_error(gate_err2, \"cx\")\n",
    "\n",
    "print(bitflip_err)\n",
    "\n"
   ]
  },
  {
   "cell_type": "code",
   "execution_count": null,
   "id": "15baaf37-31d1-47cc-84b9-f341cb862abc",
   "metadata": {},
   "outputs": [],
   "source": [
    "# Create noisy simulator backend\n",
    "sim_noise = AerSimulator(noise_model=bit_flip_err)\n",
    "\n",
    "# Transpile circuit for noisy basis gates\n",
    "circ_tnoise = transpile(ghz_circ, sim_noise)\n",
    "\n",
    "# Run and get counts\n",
    "result_bit_flip = sim_noise.run(circ_tnoise).result()\n",
    "counts_bit_flip = result_bit_flip.get_counts(0)\n",
    "\n",
    "# Plot noisy output\n",
    "plot_histogram(counts_bit_flip)"
   ]
  }
 ],
 "metadata": {
  "kernelspec": {
   "display_name": "Qiskit v0.34.2 (ipykernel)",
   "language": "python",
   "name": "python3"
  },
  "language_info": {
   "codemirror_mode": {
    "name": "ipython",
    "version": 3
   },
   "file_extension": ".py",
   "mimetype": "text/x-python",
   "name": "python",
   "nbconvert_exporter": "python",
   "pygments_lexer": "ipython3",
   "version": "3.8.12"
  },
  "widgets": {
   "application/vnd.jupyter.widget-state+json": {
    "state": {
     "06afddb1622e4621a283293aa3cd7d2c": {
      "model_module": "@jupyter-widgets/controls",
      "model_module_version": "1.5.0",
      "model_name": "DescriptionStyleModel",
      "state": {
       "description_width": ""
      }
     },
     "19d2cbaa8dd34005b66ff1d76fcb7ff9": {
      "model_module": "@jupyter-widgets/base",
      "model_module_version": "1.2.0",
      "model_name": "LayoutModel",
      "state": {
       "width": "145px"
      }
     },
     "2fe0ed8968c8423bbab7e28edd36f745": {
      "model_module": "@jupyter-widgets/base",
      "model_module_version": "1.2.0",
      "model_name": "LayoutModel",
      "state": {
       "width": "70px"
      }
     },
     "3090509fe11743c397823e72aef04656": {
      "model_module": "@jupyter-widgets/controls",
      "model_module_version": "1.5.0",
      "model_name": "GridBoxModel",
      "state": {
       "children": [
        "IPY_MODEL_41063b25867c4777bfea1484c29811c4"
       ],
       "layout": "IPY_MODEL_ec88d08d576446b4959d9748e9ac511d"
      }
     },
     "381c4b3921da4388bd2872837fb80ccc": {
      "model_module": "@jupyter-widgets/base",
      "model_module_version": "1.2.0",
      "model_name": "LayoutModel",
      "state": {
       "margin": "0px 0px 0px 37px",
       "width": "600px"
      }
     },
     "38e29c35a0a144d7b087d72f0b553ff1": {
      "model_module": "@jupyter-widgets/base",
      "model_module_version": "1.2.0",
      "model_name": "LayoutModel",
      "state": {
       "grid_area": "right",
       "padding": "0px 0px 0px 0px",
       "width": "70px"
      }
     },
     "41063b25867c4777bfea1484c29811c4": {
      "model_module": "@jupyter-widgets/controls",
      "model_module_version": "1.5.0",
      "model_name": "ButtonModel",
      "state": {
       "button_style": "primary",
       "description": "Clear",
       "layout": "IPY_MODEL_38e29c35a0a144d7b087d72f0b553ff1",
       "style": "IPY_MODEL_4ed7ea4f07ee4c72ad662f8225b6e3ee"
      }
     },
     "4ed7ea4f07ee4c72ad662f8225b6e3ee": {
      "model_module": "@jupyter-widgets/controls",
      "model_module_version": "1.5.0",
      "model_name": "ButtonStyleModel",
      "state": {}
     },
     "59dbff266af44feba9b21ab21cda29c4": {
      "model_module": "@jupyter-widgets/controls",
      "model_module_version": "1.5.0",
      "model_name": "HTMLModel",
      "state": {
       "layout": "IPY_MODEL_b111116226b44eb3b0286666c464d460",
       "style": "IPY_MODEL_f2e9437ff8434f08956b484f73a5fe97",
       "value": "<h5>Status</h5>"
      }
     },
     "636cf4e7ec4f4a83a7d71fc8298c61c4": {
      "model_module": "@jupyter-widgets/controls",
      "model_module_version": "1.5.0",
      "model_name": "HTMLModel",
      "state": {
       "layout": "IPY_MODEL_6c5a753fd6c44cd3bcb0b5a0b138fd70",
       "style": "IPY_MODEL_06afddb1622e4621a283293aa3cd7d2c",
       "value": "<p style='font-family: IBM Plex Sans, Arial, Helvetica, sans-serif; font-size: 20px; font-weight: medium;'>Circuit Properties</p>"
      }
     },
     "6c5a753fd6c44cd3bcb0b5a0b138fd70": {
      "model_module": "@jupyter-widgets/base",
      "model_module_version": "1.2.0",
      "model_name": "LayoutModel",
      "state": {
       "margin": "0px 0px 10px 0px"
      }
     },
     "6db9516d49fb4f129d88f005de64ebf2": {
      "model_module": "@jupyter-widgets/controls",
      "model_module_version": "1.5.0",
      "model_name": "HBoxModel",
      "state": {
       "children": [
        "IPY_MODEL_cceab9246f46413b8e717769a2f95c90",
        "IPY_MODEL_d2823b5b75ea455488dbfbcc46471592",
        "IPY_MODEL_59dbff266af44feba9b21ab21cda29c4",
        "IPY_MODEL_89025c7b9fca45fd80f9d66b00cef49f",
        "IPY_MODEL_74542dd1e20f4383a7ef0952f6ecb9f0"
       ],
       "layout": "IPY_MODEL_381c4b3921da4388bd2872837fb80ccc"
      }
     },
     "74542dd1e20f4383a7ef0952f6ecb9f0": {
      "model_module": "@jupyter-widgets/controls",
      "model_module_version": "1.5.0",
      "model_name": "HTMLModel",
      "state": {
       "layout": "IPY_MODEL_cc1caeae20bb4d869db6a6d0314ec64b",
       "style": "IPY_MODEL_df3e314662f54eebab7fd3d5b60e9d2b",
       "value": "<h5>Message</h5>"
      }
     },
     "89025c7b9fca45fd80f9d66b00cef49f": {
      "model_module": "@jupyter-widgets/controls",
      "model_module_version": "1.5.0",
      "model_name": "HTMLModel",
      "state": {
       "layout": "IPY_MODEL_2fe0ed8968c8423bbab7e28edd36f745",
       "style": "IPY_MODEL_a4b3b66e197146549809de61f3bc2e1e",
       "value": "<h5>Queue</h5>"
      }
     },
     "a4b3b66e197146549809de61f3bc2e1e": {
      "model_module": "@jupyter-widgets/controls",
      "model_module_version": "1.5.0",
      "model_name": "DescriptionStyleModel",
      "state": {
       "description_width": ""
      }
     },
     "b111116226b44eb3b0286666c464d460": {
      "model_module": "@jupyter-widgets/base",
      "model_module_version": "1.2.0",
      "model_name": "LayoutModel",
      "state": {
       "width": "95px"
      }
     },
     "b28740f4b48849319d4b49c105c244c5": {
      "model_module": "@jupyter-widgets/base",
      "model_module_version": "1.2.0",
      "model_name": "LayoutModel",
      "state": {
       "width": "190px"
      }
     },
     "cc1caeae20bb4d869db6a6d0314ec64b": {
      "model_module": "@jupyter-widgets/base",
      "model_module_version": "1.2.0",
      "model_name": "LayoutModel",
      "state": {}
     },
     "cceab9246f46413b8e717769a2f95c90": {
      "model_module": "@jupyter-widgets/controls",
      "model_module_version": "1.5.0",
      "model_name": "HTMLModel",
      "state": {
       "layout": "IPY_MODEL_b28740f4b48849319d4b49c105c244c5",
       "style": "IPY_MODEL_e319371808b94bb28f8e93790aae25d6",
       "value": "<h5>Job ID</h5>"
      }
     },
     "d2823b5b75ea455488dbfbcc46471592": {
      "model_module": "@jupyter-widgets/controls",
      "model_module_version": "1.5.0",
      "model_name": "HTMLModel",
      "state": {
       "layout": "IPY_MODEL_19d2cbaa8dd34005b66ff1d76fcb7ff9",
       "style": "IPY_MODEL_e09f2e1d436f47989b6a3c1b04b9ffd9",
       "value": "<h5>Backend</h5>"
      }
     },
     "df3e314662f54eebab7fd3d5b60e9d2b": {
      "model_module": "@jupyter-widgets/controls",
      "model_module_version": "1.5.0",
      "model_name": "DescriptionStyleModel",
      "state": {
       "description_width": ""
      }
     },
     "e09f2e1d436f47989b6a3c1b04b9ffd9": {
      "model_module": "@jupyter-widgets/controls",
      "model_module_version": "1.5.0",
      "model_name": "DescriptionStyleModel",
      "state": {
       "description_width": ""
      }
     },
     "e319371808b94bb28f8e93790aae25d6": {
      "model_module": "@jupyter-widgets/controls",
      "model_module_version": "1.5.0",
      "model_name": "DescriptionStyleModel",
      "state": {
       "description_width": ""
      }
     },
     "ec88d08d576446b4959d9748e9ac511d": {
      "model_module": "@jupyter-widgets/base",
      "model_module_version": "1.2.0",
      "model_name": "LayoutModel",
      "state": {
       "grid_template_areas": "\n                                       \". . . . right \"\n                                        ",
       "grid_template_columns": "20% 20% 20% 20% 20%",
       "width": "100%"
      }
     },
     "f2e9437ff8434f08956b484f73a5fe97": {
      "model_module": "@jupyter-widgets/controls",
      "model_module_version": "1.5.0",
      "model_name": "DescriptionStyleModel",
      "state": {
       "description_width": ""
      }
     }
    },
    "version_major": 2,
    "version_minor": 0
   }
  }
 },
 "nbformat": 4,
 "nbformat_minor": 5
}
